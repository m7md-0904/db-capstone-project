{
 "cells": [
  {
   "cell_type": "code",
   "execution_count": 8,
   "id": "b0bce76b-f6b5-4152-b965-2a55a64683ed",
   "metadata": {},
   "outputs": [],
   "source": [
    "import mysql.connector as connector"
   ]
  },
  {
   "cell_type": "code",
   "execution_count": 24,
   "id": "ede38258-bccd-433d-badb-eaedb145dc94",
   "metadata": {},
   "outputs": [],
   "source": [
    "from decimal import Decimal\n",
    "from mysql.connector.pooling import MySQLConnectionPool\n",
    "from mysql.connector import Error, errorcode"
   ]
  },
  {
   "cell_type": "code",
   "execution_count": 26,
   "id": "98e89578-10a9-4a1c-8e0d-ee36c33aa74a",
   "metadata": {},
   "outputs": [],
   "source": [
    "dbconfig={\"database\":\"db_cabstone_project\", \"user\":\"root\", \"password\":\"1K5kh1g6.1gsa\"}"
   ]
  },
  {
   "cell_type": "code",
   "execution_count": 38,
   "id": "fb0ca811-a723-4b66-bda9-410deb7f2e9a",
   "metadata": {},
   "outputs": [
    {
     "name": "stdout",
     "output_type": "stream",
     "text": [
      "[('bookings',), ('customers',), ('menuitems',), ('menus',), ('orders',), ('ordersview',)]\n"
     ]
    }
   ],
   "source": [
    "try:\n",
    "    pool = MySQLConnectionPool(pool_name=\"pool_a\", pool_size=2, **dbconfig)\n",
    "    myconnection = pool.get_connection()\n",
    "\n",
    "    if myconnection and myconnection.is_connected():\n",
    "        cursor = myconnection.cursor() \n",
    "        show_tables_query = \"SHOW tables\" \n",
    "        \n",
    "        cursor.execute(show_tables_query)\n",
    "        results = cursor.fetchall()\n",
    "        print(results)\n",
    "    else:\n",
    "        print(\"No connection found\")\n",
    "except Error as e:\n",
    "    # Print the error message and error code\n",
    "    print(f\"Error Code: {e.errno}\")  # Error code\n",
    "    print(f\"Error Message: {e.msg}\")\n",
    "finally:\n",
    "    # Ensure resources are closed\n",
    "    if 'cursor' in locals() and cursor:\n",
    "        cursor.close()\n",
    "    if 'myconnection' in locals() and myconnection and myconnection.is_connected():\n",
    "        myconnection.close()\n",
    "\n"
   ]
  },
  {
   "cell_type": "code",
   "execution_count": 40,
   "id": "6a15664c-e6c6-45a5-8d2b-dcb395664b81",
   "metadata": {},
   "outputs": [
    {
     "name": "stdout",
     "output_type": "stream",
     "text": [
      "['FullName', 'ContactNumber', 'Email']\n",
      "('Jane Smith', '987-654-3210', 'janesmith@example.com')\n"
     ]
    }
   ],
   "source": [
    "try:\n",
    "    pool = MySQLConnectionPool(pool_name=\"pool_a\", pool_size=2, **dbconfig)\n",
    "    myconnection = pool.get_connection()\n",
    "\n",
    "    if myconnection and myconnection.is_connected():\n",
    "        cursor = myconnection.cursor() \n",
    "        High_Paying_Customers = \"CREATE PROCEDURE HighPayingCustomers() BEGIN SELECT c.FullName,c.ContactNumber,c.Email From Customers c INNER JOIN Orders o ON o.customerID = c.customerID WHERE o.TotalCost >60; END \" \n",
    "        cursor.execute(\"DROP PROCEDURE IF EXISTS HighPayingCustomers\") \n",
    "        cursor.execute(High_Paying_Customers)\n",
    "        \n",
    "        cursor.callproc(\"HighPayingCustomers\")\n",
    "        \n",
    "        for result in cursor.stored_results():\n",
    "            cols = [column[0] for column in result.description] \n",
    "            dataset = result.fetchall()  \n",
    "            \n",
    "            print(cols)  \n",
    "            \n",
    "            for data in dataset:\n",
    "                print(data)  \n",
    "    else:\n",
    "        print(\"No connection found\")\n",
    "except Error as e:\n",
    "    # Print the error message and error code\n",
    "    print(f\"Error Code: {e.errno}\")  # Error code\n",
    "    print(f\"Error Message: {e.msg}\")\n",
    "finally:\n",
    "    # Ensure resources are closed\n",
    "    if 'cursor' in locals() and cursor:\n",
    "        cursor.close()\n",
    "    if 'myconnection' in locals() and myconnection and myconnection.is_connected():\n",
    "        myconnection.close()\n",
    "\n"
   ]
  },
  {
   "cell_type": "code",
   "execution_count": null,
   "id": "8eaab7e4-7f6d-40fe-bb43-b2fcf609119c",
   "metadata": {},
   "outputs": [],
   "source": []
  }
 ],
 "metadata": {
  "kernelspec": {
   "display_name": "Python 3 (ipykernel)",
   "language": "python",
   "name": "python3"
  },
  "language_info": {
   "codemirror_mode": {
    "name": "ipython",
    "version": 3
   },
   "file_extension": ".py",
   "mimetype": "text/x-python",
   "name": "python",
   "nbconvert_exporter": "python",
   "pygments_lexer": "ipython3",
   "version": "3.12.7"
  }
 },
 "nbformat": 4,
 "nbformat_minor": 5
}
