{
 "cells": [
  {
   "cell_type": "code",
   "execution_count": 6,
   "id": "b0bce76b-f6b5-4152-b965-2a55a64683ed",
   "metadata": {},
   "outputs": [],
   "source": [
    "import mysql.connector as connector"
   ]
  },
  {
   "cell_type": "code",
   "execution_count": 14,
   "id": "7707f396-ba2e-4b01-8445-54bee5fadb95",
   "metadata": {},
   "outputs": [],
   "source": [
    "connection = connector.connect(**dbconfig)"
   ]
  },
  {
   "cell_type": "code",
   "execution_count": 8,
   "id": "bf58a49f-d91a-43c2-b59c-f03c80f8059b",
   "metadata": {},
   "outputs": [],
   "source": [
    "dbconfig={\"database\":\"db_cabstone_project\", \"user\":\"root\", \"password\":\"1K5kh1g6.1gsa\"}"
   ]
  }
 ],
 "metadata": {
  "kernelspec": {
   "display_name": "Python 3 (ipykernel)",
   "language": "python",
   "name": "python3"
  },
  "language_info": {
   "codemirror_mode": {
    "name": "ipython",
    "version": 3
   },
   "file_extension": ".py",
   "mimetype": "text/x-python",
   "name": "python",
   "nbconvert_exporter": "python",
   "pygments_lexer": "ipython3",
   "version": "3.12.7"
  }
 },
 "nbformat": 4,
 "nbformat_minor": 5
}
